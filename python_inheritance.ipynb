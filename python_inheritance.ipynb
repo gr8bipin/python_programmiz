{
 "cells": [
  {
   "cell_type": "markdown",
   "metadata": {},
   "source": [
    "# Python Inheritance"
   ]
  },
  {
   "cell_type": "code",
   "execution_count": null,
   "metadata": {},
   "outputs": [
    {
     "ename": "",
     "evalue": "",
     "output_type": "error",
     "traceback": [
      "\u001b[1;31mFailed to start the Kernel. \n",
      "\u001b[1;31mUnable to start Kernel 'Python 3.11.9' due to a timeout waiting for the ports to get used. \n",
      "\u001b[1;31mView Jupyter <a href='command:jupyter.viewOutput'>log</a> for further details."
     ]
    }
   ],
   "source": [
    "#Being an object-oriented language, Python supports class inheritance.\n",
    "\n",
    "# It allows us to create a new class from an existing one.\n",
    "\n",
    "#The newly created class is known as the subclass (child or derived class).\n",
    "\n",
    "#The existing class from which the child class inherits is known as \n",
    "the superclass (parent or base class).\n"
   ]
  },
  {
   "cell_type": "markdown",
   "metadata": {},
   "source": [
    "# Python Inheritance Syntax"
   ]
  },
  {
   "cell_type": "code",
   "execution_count": null,
   "metadata": {},
   "outputs": [],
   "source": [
    "# define a super class\n",
    "class super_class:\n",
    "    # attributes and method  definition\n"
   ]
  },
  {
   "cell_type": "code",
   "execution_count": null,
   "metadata": {},
   "outputs": [],
   "source": [
    "# inheritance\n",
    "class sub_class(super_class):\n",
    "    # attributes and method of super_class\n",
    "    # attributes and method of sub_class\n"
   ]
  },
  {
   "cell_type": "markdown",
   "metadata": {},
   "source": [
    "# Example: Python Inheritance"
   ]
  },
  {
   "cell_type": "code",
   "execution_count": null,
   "metadata": {},
   "outputs": [],
   "source": [
    "class Animal:\n",
    "    # attribute and method of the parent class\n",
    "    name = \"\"\n",
    "\n",
    "    def eat(self):\n",
    "        print(\"I can eat\")\n",
    "\n",
    "# inherit from Animal\n",
    "class Dog(Animal):\n",
    "    # new method in subclass\n",
    "    def display(self):\n",
    "        # access name attributes of superclass using self\n",
    "        print(\"My name is \", self.name)\n",
    "\n",
    "# create an object of the subclass\n",
    "labrador = Dog()\n",
    "\n",
    "# access superclass attribute and method\n",
    "labrador.name = \"Rohu\"\n",
    "labrador.eat()\n",
    "\n",
    "# call subclass method\n",
    "labrador.display()"
   ]
  },
  {
   "cell_type": "code",
   "execution_count": null,
   "metadata": {},
   "outputs": [],
   "source": [
    "# In the above example, we have derived a subclass Dog from a superclass\n",
    "#  Animal. Notice the statements,"
   ]
  },
  {
   "cell_type": "code",
   "execution_count": null,
   "metadata": {},
   "outputs": [],
   "source": [
    "labrador.name = \"Rohu\"\n",
    "labrador.eat()"
   ]
  },
  {
   "cell_type": "code",
   "execution_count": null,
   "metadata": {},
   "outputs": [],
   "source": [
    "# Here, we are using labrador (object of Dog) to access name and \n",
    "# eat() of the Animal class.\n",
    "\n",
    "# This is possible because the subclass inherits all attributes \n",
    "# and methods of the superclass.\n",
    "\n",
    "# Also, we have accessed the name attribute inside the method of the\n",
    "#  Dog class using self."
   ]
  },
  {
   "cell_type": "markdown",
   "metadata": {},
   "source": [
    "# Python Inheritance Implementation:"
   ]
  },
  {
   "cell_type": "markdown",
   "metadata": {},
   "source": [
    "![alt text](python-inheritance-example.png)"
   ]
  },
  {
   "cell_type": "markdown",
   "metadata": {},
   "source": [
    "# is-a relationship"
   ]
  },
  {
   "cell_type": "code",
   "execution_count": null,
   "metadata": {},
   "outputs": [],
   "source": [
    "# Inheritance is an is-a relationship. \n",
    "# That is, we use inheritance only if there exists an is-a relationship\n",
    "#  between two classes. For example,\n",
    "\n",
    "# 1. Car is a Vehicle\n",
    "# 2. Apple is a Fruit\n",
    "# 3. Cat is an Animal\n",
    "\n",
    "# Here, Car can inherit from Vehicle, Apple can inherit from Fruit,\n",
    "#  and so on."
   ]
  },
  {
   "cell_type": "markdown",
   "metadata": {},
   "source": [
    "# Method Overriding in Python Inheritance"
   ]
  },
  {
   "cell_type": "code",
   "execution_count": null,
   "metadata": {},
   "outputs": [],
   "source": [
    "# In the previous example, we see the object of the subclass can access\n",
    "#  the method of the superclass.\n",
    "\n",
    "# However, what if the same method is present in both the superclass\n",
    "#  and subclass?\n",
    "\n",
    "# In this case, the method in the subclass overrides the method\n",
    "#  in the superclass. This concept is known as method overriding in Python."
   ]
  },
  {
   "cell_type": "markdown",
   "metadata": {},
   "source": [
    "# Example: Method Overriding"
   ]
  },
  {
   "cell_type": "code",
   "execution_count": null,
   "metadata": {},
   "outputs": [],
   "source": [
    "class Animal:\n",
    "\n",
    "    # attributes and methods of the parent class\n",
    "    name = \"\"\n",
    "\n",
    "    def eat(self):\n",
    "        print(\"I can eat\")\n",
    "\n",
    "# inherit from Animal\n",
    "class Dog(Animal):\n",
    "\n",
    "    # override eat() method\n",
    "    def eat(self):\n",
    "        print(\"I like to eat bones\")\n",
    "\n",
    "# create an object of the subclass\n",
    "labrador = Dog()\n",
    "\n",
    "# call the eat() method on the labrador object\n",
    "labrador.eat()\n"
   ]
  },
  {
   "cell_type": "code",
   "execution_count": 6,
   "metadata": {},
   "outputs": [],
   "source": [
    "# In the above example, the same method eat() is present in both \n",
    "# the Dog class and the Animal class.\n",
    "\n",
    "# Now, when we call the eat() method using the object of the Dog subclass,\n",
    "#  the method of the Dog class is called.\n",
    "\n",
    "# This is because the eat() method of the Dog subclass overrides\n",
    "#  the same method of the Animal superclass."
   ]
  },
  {
   "cell_type": "markdown",
   "metadata": {},
   "source": [
    "# The super() Function in Inheritance"
   ]
  },
  {
   "cell_type": "code",
   "execution_count": null,
   "metadata": {},
   "outputs": [],
   "source": [
    "# Previously we saw that the same method (function) in the subclass\n",
    "#  overrides the method in the superclass.\n",
    "\n",
    "# However, if we need to access the superclass method from the subclass,\n",
    "#  we use the super() function. For example,"
   ]
  },
  {
   "cell_type": "code",
   "execution_count": 1,
   "metadata": {},
   "outputs": [
    {
     "name": "stdout",
     "output_type": "stream",
     "text": [
      "I can eat\n",
      "I like to eat bones.\n"
     ]
    }
   ],
   "source": [
    "class Animal:\n",
    "    \n",
    "    name = \"\"\n",
    "\n",
    "    def eat(self):\n",
    "        print(\"I can eat\")\n",
    "\n",
    "# inherit from Animal\n",
    "class Dog(Animal):\n",
    "\n",
    "    # override eat() method\n",
    "    def eat(self):\n",
    "\n",
    "        # call the eat() method of the superclass using super()\n",
    "        super().eat()\n",
    "\n",
    "        print(\"I like to eat bones.\")\n",
    "\n",
    "# create an object of the subclass\n",
    "labrador = Dog()\n",
    "\n",
    "labrador.eat()"
   ]
  },
  {
   "cell_type": "code",
   "execution_count": 2,
   "metadata": {},
   "outputs": [],
   "source": [
    "# In the above example, the eat() method of the Dog subclass overrides the same method of the Animal superclass.\n",
    "\n",
    "# Inside the Dog class, we have used"
   ]
  },
  {
   "cell_type": "code",
   "execution_count": null,
   "metadata": {},
   "outputs": [
    {
     "ename": "AttributeError",
     "evalue": "type object 'super' has no attribute 'eat'",
     "output_type": "error",
     "traceback": [
      "\u001b[1;31m---------------------------------------------------------------------------\u001b[0m",
      "\u001b[1;31mAttributeError\u001b[0m                            Traceback (most recent call last)",
      "Cell \u001b[1;32mIn[6], line 2\u001b[0m\n\u001b[0;32m      1\u001b[0m \u001b[38;5;66;03m# call method of superclass\u001b[39;00m\n\u001b[1;32m----> 2\u001b[0m \u001b[38;5;28;43msuper\u001b[39;49m\u001b[38;5;241;43m.\u001b[39;49m\u001b[43meat\u001b[49m()\n",
      "\u001b[1;31mAttributeError\u001b[0m: type object 'super' has no attribute 'eat'"
     ]
    }
   ],
   "source": [
    "# call method of superclass\n",
    "super().eat()"
   ]
  },
  {
   "cell_type": "code",
   "execution_count": 4,
   "metadata": {},
   "outputs": [],
   "source": [
    "# to call the eat() method of the Animal superclass from the Dog subclass.\n",
    "\n",
    "# So, when we call the eat() method using the labrador object"
   ]
  },
  {
   "cell_type": "code",
   "execution_count": 5,
   "metadata": {},
   "outputs": [
    {
     "name": "stdout",
     "output_type": "stream",
     "text": [
      "I can eat\n",
      "I like to eat bones.\n"
     ]
    }
   ],
   "source": [
    "# call the eat() method\n",
    "labrador.eat()"
   ]
  },
  {
   "cell_type": "code",
   "execution_count": null,
   "metadata": {},
   "outputs": [],
   "source": [
    "# Both the overridden and the superclass version of the eat() method is executed."
   ]
  }
 ],
 "metadata": {
  "kernelspec": {
   "display_name": "Python 3",
   "language": "python",
   "name": "python3"
  },
  "language_info": {
   "codemirror_mode": {
    "name": "ipython",
    "version": 3
   },
   "file_extension": ".py",
   "mimetype": "text/x-python",
   "name": "python",
   "nbconvert_exporter": "python",
   "pygments_lexer": "ipython3",
   "version": "3.11.9"
  }
 },
 "nbformat": 4,
 "nbformat_minor": 2
}
