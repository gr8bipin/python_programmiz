{
 "cells": [
  {
   "cell_type": "markdown",
   "metadata": {},
   "source": [
    "# Python Object Oriented Programming"
   ]
  },
  {
   "cell_type": "code",
   "execution_count": null,
   "metadata": {},
   "outputs": [],
   "source": [
    "# Python is a versatile programming language that supports various programming styles,\n",
    "# including object-oriented programming (OOP) through the use of objects and classes.\n",
    "\n",
    "# An object is any entity that has attributes and behaviors. For example, a parrot is an object.\n",
    "\n",
    "# It has:\n",
    "# 1. attributes - name, age, color, etc.\n",
    "# 2. behavior - dancing, singing, etc.\n",
    "\n",
    "# Similarly, a class is a blueprint for that object."
   ]
  },
  {
   "cell_type": "markdown",
   "metadata": {},
   "source": [
    "# Python Class and Object"
   ]
  },
  {
   "cell_type": "code",
   "execution_count": 1,
   "metadata": {},
   "outputs": [
    {
     "name": "stdout",
     "output_type": "stream",
     "text": [
      "Blu is 10 years old\n",
      "Woo is 15 years old\n"
     ]
    }
   ],
   "source": [
    "class Parrot:\n",
    "    # class attributes\n",
    "    name = \"\"\n",
    "    age = 0\n",
    "\n",
    "# create parrot1 object\n",
    "parrot1 = Parrot()\n",
    "parrot1.name = \"Blu\"\n",
    "parrot1.age = 10\n",
    "\n",
    "# create another object parrot2\n",
    "parrot2 = Parrot()\n",
    "parrot2.name = \"Woo\"\n",
    "parrot2.age = 15\n",
    "\n",
    "# access attributes\n",
    "print(f\"{parrot1.name} is {parrot1.age} years old\")\n",
    "print(f\"{parrot2.name} is {parrot2.age} years old\")"
   ]
  },
  {
   "cell_type": "code",
   "execution_count": 2,
   "metadata": {},
   "outputs": [],
   "source": [
    "# In the above example, we created a class with the name Parrot with two attributes: name and age.\n",
    "\n",
    "# Then, we create instances of the Parrot class. Here, parrot1 and parrot2 are references (value) to\n",
    "#  our new objects.\n",
    "\n",
    "# We then accessed and assigned different values to the instance attributes \n",
    "# using the objects name and the . notation."
   ]
  },
  {
   "cell_type": "markdown",
   "metadata": {},
   "source": [
    "# Python Classes and Objects"
   ]
  },
  {
   "cell_type": "code",
   "execution_count": null,
   "metadata": {},
   "outputs": [
    {
     "data": {
      "text/plain": [
       "0"
      ]
     },
     "execution_count": 4,
     "metadata": {},
     "output_type": "execute_result"
    }
   ],
   "source": [
    "#   Python Classes and Objects:\n",
    "\n",
    "# In the last tutorial, we learned about Python OOP.\n",
    "#  We know that Python also supports the concept of objects and classes.\n",
    "\n",
    "# An object is simply a collection of data (variables) and\n",
    "#  methods (functions). Similarly, a class is a blueprint for that object.\n",
    "\n",
    "# Before we learn about objects, let's first learn about classes in Python.\n",
    "\n",
    "# ..............\n",
    "\n",
    "#   Python Classes:\n",
    "\n",
    "# A class is considered a blueprint of objects.\n",
    "\n",
    "# We can think of the class as a sketch (prototype) of a house.\n",
    "#  It contains all the details about the floors, doors, windows, etc.\n",
    "\n",
    "# Based on these descriptions, we build the house; the house is the object.\n",
    "\n",
    "# Since many houses can be made from the same description,\n",
    "#  we can create many objects from a class.\n",
    "\n",
    "#....................\n",
    "\n",
    "#   Define Python Class:\n",
    "\n",
    "# We use the class keyword to create a class in Python. \n",
    "\n",
    "# Let's see an example,\n",
    "\n",
    "class Bike: # Here, we have created a class \n",
    "    # class definition \n",
    "    name = \"\"\n",
    "    gear = 0\n",
    "\n",
    "# Here,\n",
    "# Bike - the name of the class\n",
    "# name/gear - variables inside the class with default values \"\" and 0 respectively.\n",
    "# Note: The variables inside a class are called attributes.\n",
    "\n",
    "#...............\n",
    "\n",
    "#   Python Objects:\n",
    "\n",
    "# An object is called an instance of a class.\n",
    "\n",
    "# Suppose Bike is a class then we can create objects like bike1, bike2, etc\n",
    "#  from the class.\n",
    "\n",
    "#Let's see an example,\n",
    "\n",
    "# create class\n",
    "class Bike:\n",
    "    name = \"\"\n",
    "    gear = 0\n",
    "\n",
    "# create objects of class\n",
    "bike1 = Bike()\n",
    "\n",
    "# Here, bike1 is the object of the class.\n",
    "#  Now, we can use this object to access the class attributes.\n",
    "\n",
    "# ....................\n",
    "\n",
    "#   Access Class Attributes Using Objects:\n",
    "\n",
    "# We use the . notation to access the attributes of a class. For example,\n",
    "\n",
    "# modify the name property\n",
    "bike1.name = \"Mountain Bike\"\n",
    "\n",
    "# access the gear property\n",
    "bike1.gear\n",
    "\n",
    "# Here, we have used bike1.name and bike1.gear to change and\n",
    "#  access the value of name and gear attributes, respectively.\n"
   ]
  },
  {
   "cell_type": "markdown",
   "metadata": {},
   "source": [
    "# Example 1: Python Class and Objects"
   ]
  },
  {
   "cell_type": "code",
   "execution_count": 5,
   "metadata": {},
   "outputs": [
    {
     "name": "stdout",
     "output_type": "stream",
     "text": [
      "Name: Mountain Bike, Gears: 11\n"
     ]
    }
   ],
   "source": [
    "# define a class\n",
    "class Bike:\n",
    "    name = \"\"\n",
    "    gear = 0\n",
    "\n",
    "# create object of class\n",
    "bike1 = Bike()\n",
    "\n",
    "# access attributes and assign new values\n",
    "bike1.gear = 11\n",
    "bike1.name = \"Mountain Bike\"\n",
    "\n",
    "print(f\"Name: {bike1.name}, Gears: {bike1.gear}\")"
   ]
  },
  {
   "cell_type": "code",
   "execution_count": 7,
   "metadata": {},
   "outputs": [],
   "source": [
    "# In the above example, we have defined the class named Bike with \n",
    "# two attributes: name and gear.\n",
    "\n",
    "# We have also created an object bike1 of the class Bike.\n",
    "\n",
    "# Finally, we have accessed and modified the properties of an object using\n",
    "#  the . notation."
   ]
  },
  {
   "cell_type": "markdown",
   "metadata": {},
   "source": [
    "# Create Multiple Objects of Python Class"
   ]
  },
  {
   "cell_type": "code",
   "execution_count": 9,
   "metadata": {},
   "outputs": [
    {
     "name": "stdout",
     "output_type": "stream",
     "text": [
      "Employee ID: 1001\n",
      "Employee ID: 1002\n"
     ]
    }
   ],
   "source": [
    "# We can also create multiple objects from a single class. For example,\n",
    "\n",
    "# define a class\n",
    "class Employee:\n",
    "    # define a property\n",
    "    employeeID = 0\n",
    "\n",
    "# create two objects of the Employee Class\n",
    "employee1 = Employee()\n",
    "employee2 = Employee()\n",
    "\n",
    "# access property using employee1\n",
    "employee1.employeeID = 1001\n",
    "print(f\"Employee ID: {employee1.employeeID}\")\n",
    "\n",
    "# access property using employee2\n",
    "employee2.employeeID = 1002\n",
    "print(f\"Employee ID: {employee2.employeeID}\")\n",
    "\n"
   ]
  },
  {
   "cell_type": "code",
   "execution_count": 10,
   "metadata": {},
   "outputs": [],
   "source": [
    "# In the above example, we have created two objects employee1 and employee2\n",
    "# of the Employee class.\n"
   ]
  },
  {
   "cell_type": "markdown",
   "metadata": {},
   "source": [
    "# Python Methods"
   ]
  },
  {
   "cell_type": "code",
   "execution_count": 11,
   "metadata": {},
   "outputs": [],
   "source": [
    "# We can also define a function inside a Python class.\n",
    "#  A Python function defined inside a class is called a method.\n",
    "\n",
    "# Let's see an example,"
   ]
  },
  {
   "cell_type": "code",
   "execution_count": 12,
   "metadata": {},
   "outputs": [
    {
     "name": "stdout",
     "output_type": "stream",
     "text": [
      "Area of Room = 1309.0\n"
     ]
    }
   ],
   "source": [
    "# create a class\n",
    "class Room:\n",
    "    length = 0.0\n",
    "    breadth = 0.0\n",
    "\n",
    "    # method to calculate area\n",
    "    def calculate_area(self):\n",
    "        print(\"Area of Room =\", self.length * self.breadth)\n",
    "\n",
    "# create object of Room class\n",
    "study_room = Room()\n",
    "\n",
    "# assign values to all the properties\n",
    "study_room.length = 42.5\n",
    "study_room.breadth = 30.8\n",
    "\n",
    "# access method inside class\n",
    "study_room.calculate_area()"
   ]
  },
  {
   "cell_type": "code",
   "execution_count": 13,
   "metadata": {},
   "outputs": [
    {
     "name": "stdout",
     "output_type": "stream",
     "text": [
      "Area of Room = 1309.0\n"
     ]
    }
   ],
   "source": [
    "# In the above example, we have created a class named Room with:\n",
    "\n",
    "# 1. Attributes: length and breadth\n",
    "# 2. Method: calculate_area()\n",
    "\n",
    "# Here, we have created an object named study_room from the Room class.\n",
    "\n",
    "# We then used the object to assign values to attributes: length and breadth.\n",
    "\n",
    "# Notice that we have also used the object to call the method inside the class,\n",
    "\n",
    "study_room.calculate_area()\n",
    "\n",
    "# Here, we have used the . notation to call the method.\n",
    "#  Finally, the statement inside the method is executed.\n",
    "\n"
   ]
  },
  {
   "cell_type": "markdown",
   "metadata": {},
   "source": [
    "# Python Constructors"
   ]
  },
  {
   "cell_type": "code",
   "execution_count": 15,
   "metadata": {},
   "outputs": [],
   "source": [
    "# Earlier we assigned a default value to a class attribute,\n",
    "class Bike:\n",
    "    name = \"\"\n",
    "...\n",
    "# create object\n",
    "bike1 = Bike()\n",
    "\n",
    "# However, we can also initialize values using the constructors.\n",
    "#  For example,\n",
    "\n",
    "class Bike:\n",
    "    # constructor function\n",
    "    def __init__(self, name = \"\"):\n",
    "        self.name = name\n",
    "\n",
    "bike1 = Bike()\n",
    "\n",
    "# Here, __init__() is the constructor function that is called\n",
    "#  whenever a new object of that class is instantiated.\n",
    "\n",
    "# The constructor above initializes the value of the name attribute.\n",
    "\n",
    "# We have used the self.name to refer to the name attribute of the bike1 object.\n",
    "\n",
    "# If we use a constructor to initialize values inside a class,\n",
    "#  we need to pass the corresponding value during the object creation of the class.\n",
    "\n",
    "bike1 = Bike(\"Mountain Bike\")\n",
    "\n",
    "# Here, \"Mountain Bike\" is passed to the name parameter of __init__().\n"
   ]
  },
  {
   "cell_type": "code",
   "execution_count": 20,
   "metadata": {},
   "outputs": [
    {
     "ename": "TypeError",
     "evalue": "Bike.__init__() missing 1 required positional argument: 'name'",
     "output_type": "error",
     "traceback": [
      "\u001b[1;31m---------------------------------------------------------------------------\u001b[0m",
      "\u001b[1;31mTypeError\u001b[0m                                 Traceback (most recent call last)",
      "Cell \u001b[1;32mIn[20], line 5\u001b[0m\n\u001b[0;32m      2\u001b[0m     \u001b[38;5;28;01mdef\u001b[39;00m\u001b[38;5;250m \u001b[39m\u001b[38;5;21m__init__\u001b[39m(\u001b[38;5;28mself\u001b[39m, name):\n\u001b[0;32m      3\u001b[0m         \u001b[38;5;28mself\u001b[39m\u001b[38;5;241m.\u001b[39mname \u001b[38;5;241m=\u001b[39m name\n\u001b[1;32m----> 5\u001b[0m bike1 \u001b[38;5;241m=\u001b[39m \u001b[43mBike\u001b[49m\u001b[43m(\u001b[49m\u001b[43m)\u001b[49m\n",
      "\u001b[1;31mTypeError\u001b[0m: Bike.__init__() missing 1 required positional argument: 'name'"
     ]
    }
   ],
   "source": [
    "class Bike:\n",
    "    def __init__(self, name):\n",
    "        self.name = name\n",
    "\n",
    "bike1 = Bike()"
   ]
  },
  {
   "cell_type": "code",
   "execution_count": 29,
   "metadata": {},
   "outputs": [
    {
     "name": "stdout",
     "output_type": "stream",
     "text": [
      "Bike: Suzuki\n"
     ]
    }
   ],
   "source": [
    "class Bike:\n",
    "    def __init__(self, name = \"Suzuki\"):\n",
    "        self.name = name\n",
    "\n",
    "bike1 = Bike()\n",
    "print(f\"Bike: {bike1.name}\")"
   ]
  },
  {
   "cell_type": "code",
   "execution_count": 30,
   "metadata": {},
   "outputs": [
    {
     "name": "stdout",
     "output_type": "stream",
     "text": [
      "Bike: Mountain Bike\n"
     ]
    }
   ],
   "source": [
    "class Bike:\n",
    "    def __init__(self, name = \"Suzuki\"):\n",
    "        self.name = name\n",
    "\n",
    "bike1 = Bike(\"Mountain Bike\")\n",
    "print(f\"Bike: {bike1.name}\")"
   ]
  },
  {
   "cell_type": "code",
   "execution_count": 27,
   "metadata": {},
   "outputs": [
    {
     "name": "stdout",
     "output_type": "stream",
     "text": [
      "Bike: Mountain Bike\n"
     ]
    }
   ],
   "source": [
    "class Bike:\n",
    "    def __init__(self, name):\n",
    "        self.name = name\n",
    "\n",
    "bike1 = Bike(\"Mountain Bike\")\n",
    "print(f\"Bike: {bike1.name}\")"
   ]
  }
 ],
 "metadata": {
  "kernelspec": {
   "display_name": "Python 3",
   "language": "python",
   "name": "python3"
  },
  "language_info": {
   "codemirror_mode": {
    "name": "ipython",
    "version": 3
   },
   "file_extension": ".py",
   "mimetype": "text/x-python",
   "name": "python",
   "nbconvert_exporter": "python",
   "pygments_lexer": "ipython3",
   "version": "3.11.9"
  }
 },
 "nbformat": 4,
 "nbformat_minor": 2
}
