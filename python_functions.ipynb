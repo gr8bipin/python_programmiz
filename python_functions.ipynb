{
 "cells": [
  {
   "cell_type": "markdown",
   "metadata": {},
   "source": [
    "# Python Functions"
   ]
  },
  {
   "cell_type": "code",
   "execution_count": 49,
   "metadata": {},
   "outputs": [],
   "source": [
    "#   A function is a block of code that performs a specific task.\n",
    "\n",
    "#   Suppose we need to create a program to make a circle and color it. \n",
    "#   We can create two functions to solve this problem:\n",
    "#   1. function to create a circle, 2. function to color the shape\n",
    "\n",
    "#   Dividing a complex problem into smaller chunks makes our program easy to understand and reuse."
   ]
  },
  {
   "cell_type": "markdown",
   "metadata": {},
   "source": [
    "# Create a Function\n",
    "\n"
   ]
  },
  {
   "cell_type": "code",
   "execution_count": 50,
   "metadata": {},
   "outputs": [],
   "source": [
    "#   Let's create our first function.\n",
    "\n",
    "def greet():\n",
    "    print(\"Hello World!\")"
   ]
  },
  {
   "cell_type": "markdown",
   "metadata": {},
   "source": [
    "Here are the different parts of the program:\n",
    "\n",
    "![alt text](create-function-python.png)"
   ]
  },
  {
   "cell_type": "code",
   "execution_count": 51,
   "metadata": {},
   "outputs": [],
   "source": [
    "# Create a python function.\n",
    "\n",
    "#   Here, we have created a simple function named greet() that prints Hello World!\n",
    "\n",
    "#   Note: When writing a function, pay attention to indentation, \n",
    "#   which are the spaces at the start of a code line.\n",
    "\n",
    "#   In the above code, the print() statement is indented to show it's part of the function body, \n",
    "#   distinguishing the function's definition from its body.\n"
   ]
  },
  {
   "cell_type": "markdown",
   "metadata": {},
   "source": [
    "# Calling a Function"
   ]
  },
  {
   "cell_type": "code",
   "execution_count": 52,
   "metadata": {},
   "outputs": [],
   "source": [
    "#   In the above example, we have declared a function named greet().\n",
    "\n",
    "def greet():\n",
    "    print('Hello World!')\n",
    "\n",
    "#   If we run the above code, we won't get an output.\n",
    "\n",
    "#   It's because creating a function doesn't mean we are executing the code inside it. \n",
    "#   It means the code is there for us to use if we want to.\n",
    "\n",
    "#   To use this function, we need to call the function."
   ]
  },
  {
   "cell_type": "markdown",
   "metadata": {},
   "source": [
    "#   Function Call"
   ]
  },
  {
   "cell_type": "code",
   "execution_count": 53,
   "metadata": {},
   "outputs": [
    {
     "name": "stdout",
     "output_type": "stream",
     "text": [
      "Hello World!\n"
     ]
    }
   ],
   "source": [
    "greet()"
   ]
  },
  {
   "cell_type": "markdown",
   "metadata": {},
   "source": [
    "# Example: Python Function Call"
   ]
  },
  {
   "cell_type": "code",
   "execution_count": 54,
   "metadata": {},
   "outputs": [
    {
     "name": "stdout",
     "output_type": "stream",
     "text": [
      "Hello world!\n",
      "Outside function\n"
     ]
    }
   ],
   "source": [
    "def greet():\n",
    "    print('Hello world!')\n",
    "\n",
    "# call the function\n",
    "greet()\n",
    "\n",
    "print('Outside function')"
   ]
  },
  {
   "cell_type": "code",
   "execution_count": 55,
   "metadata": {},
   "outputs": [],
   "source": [
    "#   In the above example, we have created a function named greet().\n",
    " \n",
    "#   Here's how the control of the program flows:"
   ]
  },
  {
   "cell_type": "markdown",
   "metadata": {},
   "source": [
    "![alt text](working-of-function-python.png)"
   ]
  },
  {
   "cell_type": "markdown",
   "metadata": {},
   "source": [
    "# Working of Python Function"
   ]
  },
  {
   "cell_type": "code",
   "execution_count": 56,
   "metadata": {},
   "outputs": [],
   "source": [
    "#   Here,\n",
    "\n",
    "#   When the function greet() is called, the program's control transfers to the function definition.\n",
    "#   All the code inside the function is executed.\n",
    "#   The control of the program jumps to the next statement after the function call."
   ]
  },
  {
   "cell_type": "markdown",
   "metadata": {},
   "source": [
    "# Python Function Arguments"
   ]
  },
  {
   "cell_type": "code",
   "execution_count": 57,
   "metadata": {},
   "outputs": [
    {
     "name": "stdout",
     "output_type": "stream",
     "text": [
      "Hello John\n"
     ]
    }
   ],
   "source": [
    "#   Arguments are inputs given to the function.\n",
    "\n",
    "def greet(name):\n",
    "    print(\"Hello\", name)\n",
    "\n",
    "# pass argument\n",
    "greet(\"John\")"
   ]
  },
  {
   "cell_type": "code",
   "execution_count": 58,
   "metadata": {},
   "outputs": [],
   "source": [
    "## Sample Output 1:\n",
    "\n",
    "## Hello John\n",
    "\n",
    "#   Here, we passed 'John' as an argument to the greet() function.\n",
    "\n",
    "#   We can pass different arguments in each call, making the function re-usable and dynamic."
   ]
  },
  {
   "cell_type": "code",
   "execution_count": 59,
   "metadata": {},
   "outputs": [
    {
     "name": "stdout",
     "output_type": "stream",
     "text": [
      "Hello David\n"
     ]
    }
   ],
   "source": [
    "#   Let's call the function with a different argument.\n",
    "\n",
    "greet(\"David\")\n",
    "\n",
    "## Sample Output 2:\n",
    "\n",
    "## Hello David"
   ]
  },
  {
   "cell_type": "markdown",
   "metadata": {},
   "source": [
    "# Example: Function to Add Two Numbers"
   ]
  },
  {
   "cell_type": "code",
   "execution_count": 60,
   "metadata": {},
   "outputs": [
    {
     "name": "stdout",
     "output_type": "stream",
     "text": [
      "Sum:  9\n"
     ]
    }
   ],
   "source": [
    "#   function with two arguments\n",
    "def add_numbers(num1, num2):\n",
    "    sum = num1 + num2\n",
    "    print(\"Sum: \", sum)\n",
    "\n",
    "#   function call with two values\n",
    "add_numbers(5, 4)"
   ]
  },
  {
   "cell_type": "code",
   "execution_count": null,
   "metadata": {},
   "outputs": [],
   "source": [
    "#   In the above example, we have created a function named add_numbers() with arguments: num1 and num2.\n",
    "\n"
   ]
  },
  {
   "cell_type": "markdown",
   "metadata": {},
   "source": [
    "#   Python Functions with Arguments\n",
    "\n",
    "![alt text](function-argument-python.png)"
   ]
  },
  {
   "cell_type": "markdown",
   "metadata": {},
   "source": [
    "# The return Statement"
   ]
  },
  {
   "cell_type": "code",
   "execution_count": 61,
   "metadata": {},
   "outputs": [
    {
     "name": "stdout",
     "output_type": "stream",
     "text": [
      "Square: 9\n"
     ]
    }
   ],
   "source": [
    "#   We return a value from the function using the return statement.\n",
    "\n",
    "#   function definition\n",
    "def find_square(num):\n",
    "    result = num * num\n",
    "    return result\n",
    "\n",
    "#   function call\n",
    "square = find_square(3)\n",
    "\n",
    "print('Square:', square)\n"
   ]
  },
  {
   "cell_type": "code",
   "execution_count": 62,
   "metadata": {},
   "outputs": [],
   "source": [
    "#   In the above example, we have created a function named find_square(). \n",
    "#   The function accepts a number and returns the square of the number."
   ]
  },
  {
   "cell_type": "markdown",
   "metadata": {},
   "source": [
    "# Working of functions in Python\n",
    "\n",
    "![alt text](function-return-value-python-updated.png)"
   ]
  },
  {
   "cell_type": "code",
   "execution_count": 63,
   "metadata": {},
   "outputs": [],
   "source": [
    "#   Note: The return statement also denotes that the function has ended. \n",
    "#   Any code after return is not executed."
   ]
  },
  {
   "cell_type": "markdown",
   "metadata": {},
   "source": [
    "# The pass Statement"
   ]
  },
  {
   "cell_type": "code",
   "execution_count": 64,
   "metadata": {},
   "outputs": [],
   "source": [
    "# The pass statement serves as a placeholder for future code, preventing errors from empty code blocks.\n",
    "\n",
    "# It's typically used where code is planned but has yet to be written."
   ]
  },
  {
   "cell_type": "code",
   "execution_count": 65,
   "metadata": {},
   "outputs": [],
   "source": [
    "def future_function():\n",
    "    pass\n",
    "\n",
    "# this will execute without any action or error\n",
    "future_function()"
   ]
  },
  {
   "cell_type": "markdown",
   "metadata": {},
   "source": [
    "# Python pass Statement"
   ]
  },
  {
   "cell_type": "code",
   "execution_count": null,
   "metadata": {},
   "outputs": [],
   "source": [
    "# In Python programming, the pass statement is a null statement which can be used as a placeholder \n",
    "# for future code.\n",
    "\n",
    "# Suppose we have a loop or a function that is not implemented yet, \n",
    "# but we want to implement it in the future. In such cases, we can use the pass statement."
   ]
  },
  {
   "cell_type": "code",
   "execution_count": 66,
   "metadata": {},
   "outputs": [],
   "source": [
    "#   The syntax of the pass statement is:\n",
    "\n",
    "pass"
   ]
  },
  {
   "cell_type": "markdown",
   "metadata": {},
   "source": [
    "# Using pass With Conditional Statement"
   ]
  },
  {
   "cell_type": "code",
   "execution_count": 67,
   "metadata": {},
   "outputs": [
    {
     "name": "stdout",
     "output_type": "stream",
     "text": [
      "Hello\n"
     ]
    }
   ],
   "source": [
    "n = 10\n",
    "\n",
    "# use pass inside if statement\n",
    "\n",
    "if n > 10:\n",
    "    pass\n",
    "\n",
    "print('Hello')"
   ]
  },
  {
   "cell_type": "code",
   "execution_count": null,
   "metadata": {},
   "outputs": [],
   "source": [
    "# Here, notice that we have used the pass statement inside the if statement.\n",
    "\n",
    "# However, nothing happens when the pass is executed. It results in no operation (NOP)."
   ]
  },
  {
   "cell_type": "code",
   "execution_count": 68,
   "metadata": {},
   "outputs": [
    {
     "ename": "IndentationError",
     "evalue": "expected an indented block after 'if' statement on line 5 (2105511171.py, line 8)",
     "output_type": "error",
     "traceback": [
      "\u001b[1;36m  Cell \u001b[1;32mIn[68], line 8\u001b[1;36m\u001b[0m\n\u001b[1;33m    print('Hello')\u001b[0m\n\u001b[1;37m    ^\u001b[0m\n\u001b[1;31mIndentationError\u001b[0m\u001b[1;31m:\u001b[0m expected an indented block after 'if' statement on line 5\n"
     ]
    }
   ],
   "source": [
    "# Suppose we didn't use pass or just put a comment as:\n",
    "\n",
    "n = 10\n",
    "\n",
    "if n > 10:\n",
    "    # write code later\n",
    "\n",
    "print('Hello')"
   ]
  },
  {
   "cell_type": "code",
   "execution_count": null,
   "metadata": {},
   "outputs": [],
   "source": [
    "# Here, we will get an error message: IndentationError: expected an indented block\n",
    "\n",
    "# Note: The difference between a comment and a pass statement in Python is that \n",
    "# while the interpreter ignores a comment entirely, pass is not ignored."
   ]
  },
  {
   "cell_type": "markdown",
   "metadata": {},
   "source": [
    "# Use of pass Statement inside Function or Class"
   ]
  },
  {
   "cell_type": "code",
   "execution_count": 70,
   "metadata": {},
   "outputs": [],
   "source": [
    "# We can do the same thing in an empty function or class as well. For example,\n",
    "\n",
    "def function(args):\n",
    "    pass\n",
    "\n",
    "class Example:\n",
    "    pass"
   ]
  },
  {
   "cell_type": "markdown",
   "metadata": {},
   "source": [
    "# Python Library Functions"
   ]
  },
  {
   "cell_type": "code",
   "execution_count": 71,
   "metadata": {},
   "outputs": [],
   "source": [
    "#   Python provides some built-in functions that can be directly used in our program.\n",
    "\n",
    "#   We don't need to create the function, we just need to call them."
   ]
  },
  {
   "cell_type": "code",
   "execution_count": 72,
   "metadata": {},
   "outputs": [],
   "source": [
    "# Some Python library functions are:\n",
    "\n",
    "#   print() - prints the string inside the quotation marks\n",
    "#   sqrt() - returns the square root of a number\n",
    "#   pow() - returns the power of a number\n",
    "\n",
    "# These library functions are defined inside the module. \n",
    "# And to use them, we must include the module inside our program.\n",
    "\n",
    "# For example, sqrt() is defined inside the math module."
   ]
  },
  {
   "cell_type": "markdown",
   "metadata": {},
   "source": [
    "# Python Built-in Functions"
   ]
  },
  {
   "cell_type": "code",
   "execution_count": 73,
   "metadata": {},
   "outputs": [],
   "source": [
    "# Python has several functions that are readily available for use. \n",
    "# These functions are called built-in functions. \n",
    "# On this reference page, you will find all the built-in functions in Python."
   ]
  },
  {
   "cell_type": "code",
   "execution_count": 1,
   "metadata": {},
   "outputs": [
    {
     "ename": "TypeError",
     "evalue": "abs() takes exactly one argument (0 given)",
     "output_type": "error",
     "traceback": [
      "\u001b[1;31m---------------------------------------------------------------------------\u001b[0m",
      "\u001b[1;31mTypeError\u001b[0m                                 Traceback (most recent call last)",
      "Cell \u001b[1;32mIn[1], line 1\u001b[0m\n\u001b[1;32m----> 1\u001b[0m \u001b[38;5;28;43mabs\u001b[39;49m\u001b[43m(\u001b[49m\u001b[43m)\u001b[49m\n\u001b[0;32m      2\u001b[0m \u001b[38;5;66;03m# returns absolute value of a number\u001b[39;00m\n\u001b[0;32m      4\u001b[0m \u001b[38;5;28mall\u001b[39m()\n",
      "\u001b[1;31mTypeError\u001b[0m: abs() takes exactly one argument (0 given)"
     ]
    }
   ],
   "source": [
    "abs()\n",
    "# returns absolute value of a number\n",
    "\n",
    "all()\n",
    "# returns true when all elements in iterable is true\n",
    "\n",
    "any()\n",
    "# Checks if any Element of an Iterable is True\n",
    "\n",
    "ascii()\n",
    "# Returns String Containing Printable Representation\n",
    "\n",
    "bin()\n",
    "# converts integer to binary string\n",
    "\n",
    "bool()\n",
    "# Converts a Value to Boolean\n",
    "\n",
    "bytearray()\n",
    "# returns array of given byte size\n",
    "\n",
    "bytes()\n",
    "# returns immutable bytes object\n",
    "\n",
    "callable()\n",
    "# Checks if the Object is Callable\n",
    "\n",
    "chr()\n",
    "# Returns a Character (a string) from an Integer\n",
    "\n",
    "classmethod()\n",
    "# returns class method for given function\n",
    "\n",
    "compile()\n",
    "# Returns a Python code object\n",
    "\n",
    "complex()\n",
    "# Creates a Complex Number\n",
    "\n",
    "delattr()\n",
    "# Deletes Attribute From the Object\n",
    "\n",
    "dict()\n",
    "# Creates a Dictionary\n",
    "\n",
    "dir()\n",
    "# Tries to Return Attributes of Object\n",
    "\n",
    "divmod()\n",
    "# Returns a Tuple of Quotient and Remainder\n",
    "\n",
    "enumerate()\n",
    "# returns an enumerated object\n",
    "\n",
    "eval()\n",
    "# Runs Python Code Within Program\n",
    "\n",
    "exec()\n",
    "# Executes Dynamically Created Program\n",
    "\n",
    "filter()\n",
    "# constructs iterator from elements which are true\n",
    "\n",
    "float()\n",
    "# returns floating point number from number, string\n",
    "\n",
    "\n",
    "format()\n",
    "# returns formatted representation of a value\n",
    "\n",
    "frozenset()\n",
    "# returns immutable frozenset object\n",
    "\n",
    "getattr()\n",
    "# returns value of named attribute of an object\n",
    "\n",
    "globals()\n",
    "# returns dictionary of current global symbol table\n",
    "\n",
    "hasattr()\n",
    "# returns whether object has named attribute\n",
    "\n",
    "hash()\n",
    "# returns hash value of an object\n",
    "\n",
    "help()\n",
    "#Invokes the built-in Help System\n",
    "\n",
    "hex()\n",
    "# Converts to Integer to Hexadecimal\n",
    "\n",
    "id()\n",
    "# Returns Identify of an Object\n",
    "\n",
    "input()\n",
    "# reads and returns a line of string\n",
    "\n",
    "int()\n",
    "# returns integer from a number or string\n",
    "\n",
    "isinstance()\n",
    "# Checks if a Object is an Instance of Class\n",
    "\n",
    "issubclass()\n",
    "# Checks if a Class is Subclass of another Class\n",
    "\n",
    "iter()\n",
    "# returns an iterator\n",
    "\n",
    "len()\n",
    "# Returns Length of an Object\n",
    "\n",
    "list()\n",
    "# creates a list in Python\n",
    "\n",
    "locals()\n",
    "# Returns dictionary of a current local symbol table\n",
    "\n",
    "map() \n",
    "# Applies Function and Returns a List\n",
    "\n",
    "max()\n",
    "# returns the largest item\n",
    "\n",
    "memoryview()\n",
    "# returns memory view of an argument\n",
    "\n",
    "min()\n",
    "# returns the smallest value\n",
    "\n",
    "next()\n",
    "# Retrieves next item from the iterator\n",
    "\n",
    "object()\n",
    "# creates a featureless object\n",
    "\n",
    "oct()\n",
    "# returns the octal representation of an integer\n",
    "\n",
    "open()\n",
    "# Returns a file object\n",
    "\n",
    "ord()\n",
    "# returns an integer of the Unicode character\n",
    "\n",
    "pow()\n",
    "# returns the power of a number\n",
    "\n",
    "print()\n",
    "# Prints the Given Object\n",
    "\n",
    "property()\n",
    "# returns the property attribute\n",
    "\n",
    "range() \n",
    "# returns a sequence of numbers\n",
    "\n",
    "repr()\n",
    "# returns a printable representation of the object\n",
    "\n",
    "reversed()\n",
    "# returns the reversed iterator of a sequence\n",
    "\n",
    "round()\n",
    "# rounds a number to specified decimals\n",
    "\n",
    "set()\n",
    "# constructs and returns a set\n",
    "\n",
    "setattr()\n",
    "# sets the value of an attribute of an object\n",
    "\n",
    "slice()\n",
    "# returns a slice object\n",
    "\n",
    "sorted()\n",
    "# returns a sorted list from the given iterable\n",
    "\n",
    "staticmethod()\n",
    "# transforms a method into a static method\n",
    "\n",
    "str()\n",
    "# returns the string version of the object\n",
    "\n",
    "sum()\n",
    "# Adds items of an Iterable\n",
    "\n",
    "super()\n",
    "# Returns a proxy object of the base class\n",
    "\n",
    "tuple()\n",
    "# Returns a tuple\n",
    "\n",
    "type()\n",
    "# Returns the type of the object\n",
    "\n",
    "vars()\n",
    "# Returns the __dict__ attribute\n",
    "\n",
    "zip()\n",
    "# Returns an iterator of tuples\n",
    "\n",
    "__import__()\n",
    "# Function called by the import statement"
   ]
  },
  {
   "cell_type": "markdown",
   "metadata": {},
   "source": [
    "# User Defined Function Vs Standard Library Functions"
   ]
  },
  {
   "cell_type": "code",
   "execution_count": null,
   "metadata": {},
   "outputs": [],
   "source": [
    "# In Python, functions are divided into two categories: user-defined functions and standard library functions.\n",
    "# These two differ in several ways:"
   ]
  },
  {
   "cell_type": "markdown",
   "metadata": {},
   "source": [
    "# User-Defined Functions"
   ]
  },
  {
   "cell_type": "code",
   "execution_count": null,
   "metadata": {},
   "outputs": [],
   "source": [
    "# These are the functions we create ourselves. \n",
    "# They're like our custom tools, designed for specific tasks we have in mind.\n",
    "\n",
    "# They're not part of Python's standard toolbox, \n",
    "# which means we have the freedom to tailor them exactly to our needs,\n",
    "# adding a personal touch to our code."
   ]
  },
  {
   "cell_type": "markdown",
   "metadata": {},
   "source": [
    "# Standard Library Functions"
   ]
  },
  {
   "cell_type": "code",
   "execution_count": 2,
   "metadata": {},
   "outputs": [],
   "source": [
    "# Think of these as Python's pre-packaged gifts. They come built-in with Python, ready to use.\n",
    "\n",
    "# These functions cover a wide range of common tasks such as mathematics, file operations,\n",
    "#  working with strings, etc.\n",
    "\n",
    "# They've been tried and tested by the Python community, ensuring efficiency and reliability."
   ]
  },
  {
   "cell_type": "markdown",
   "metadata": {},
   "source": [
    "# Default Arguments in Functions"
   ]
  },
  {
   "cell_type": "code",
   "execution_count": 3,
   "metadata": {},
   "outputs": [],
   "source": [
    "\n",
    "# Python allows functions to have default argument values.\n",
    "\n",
    "# Default arguments are used when no explicit values are passed to these parameters\n",
    "# during a function call.\n",
    "\n",
    "# Let's look at an example."
   ]
  },
  {
   "cell_type": "code",
   "execution_count": 4,
   "metadata": {},
   "outputs": [
    {
     "name": "stdout",
     "output_type": "stream",
     "text": [
      "Good Morning Alice\n",
      "Hello Bob\n"
     ]
    }
   ],
   "source": [
    "def greet(name, message = \"Hello\"):\n",
    "    print(message, name)\n",
    "\n",
    "# calling function with both arguments\n",
    "greet(\"Alice\", \"Good Morning\")\n",
    "\n",
    "# calling function with only one argument\n",
    "greet(\"Bob\")"
   ]
  },
  {
   "cell_type": "code",
   "execution_count": 5,
   "metadata": {},
   "outputs": [],
   "source": [
    "# Here, message has the default value of Hello.\n",
    "# When greet() is called with only one argument, message uses its default value."
   ]
  },
  {
   "cell_type": "code",
   "execution_count": null,
   "metadata": {},
   "outputs": [],
   "source": []
  }
 ],
 "metadata": {
  "kernelspec": {
   "display_name": "Python 3",
   "language": "python",
   "name": "python3"
  },
  "language_info": {
   "codemirror_mode": {
    "name": "ipython",
    "version": 3
   },
   "file_extension": ".py",
   "mimetype": "text/x-python",
   "name": "python",
   "nbconvert_exporter": "python",
   "pygments_lexer": "ipython3",
   "version": "3.11.9"
  }
 },
 "nbformat": 4,
 "nbformat_minor": 2
}
