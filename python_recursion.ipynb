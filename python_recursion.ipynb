{
 "cells": [
  {
   "cell_type": "markdown",
   "metadata": {},
   "source": [
    "# Python Recursion"
   ]
  },
  {
   "cell_type": "code",
   "execution_count": 1,
   "metadata": {},
   "outputs": [],
   "source": [
    "# Recursion is the process of defining something in terms of itself.\n",
    "\n",
    "# A physical world example would be to place two parallel mirrors facing each other.\n",
    "# Any object in between them would be reflected recursively."
   ]
  },
  {
   "cell_type": "markdown",
   "metadata": {},
   "source": [
    "# Python Recursive Function"
   ]
  },
  {
   "cell_type": "code",
   "execution_count": 2,
   "metadata": {},
   "outputs": [
    {
     "ename": "SyntaxError",
     "evalue": "invalid syntax (1997995873.py, line 5)",
     "output_type": "error",
     "traceback": [
      "\u001b[1;36m  Cell \u001b[1;32mIn[2], line 5\u001b[1;36m\u001b[0m\n\u001b[1;33m    The following image shows the working of a recursive function called recurse.\u001b[0m\n\u001b[1;37m        ^\u001b[0m\n\u001b[1;31mSyntaxError\u001b[0m\u001b[1;31m:\u001b[0m invalid syntax\n"
     ]
    }
   ],
   "source": [
    "# In Python, we know that a function can call other functions.\n",
    "# It is even possible for the function to call itself.\n",
    "# These types of construct are termed as recursive functions.\n",
    "\n",
    "The following image shows the working of a recursive function called recurse.\n",
    "\n"
   ]
  },
  {
   "cell_type": "markdown",
   "metadata": {},
   "source": [
    "The following image shows the working of a recursive function called recurse.\n",
    "![alt text](python-recursion-function.png)"
   ]
  },
  {
   "cell_type": "code",
   "execution_count": null,
   "metadata": {},
   "outputs": [],
   "source": [
    "# Following is an example of a recursive function to find the factorial of an integer.\n",
    "\n",
    "# Factorial of a number is the product of all the integers from 1 to that number.\n",
    "# For example, the factorial of 6 (denoted as 6!) is 1*2*3*4*5*6 = 720."
   ]
  },
  {
   "cell_type": "markdown",
   "metadata": {},
   "source": [
    "# Example of a recursive function"
   ]
  },
  {
   "cell_type": "code",
   "execution_count": 3,
   "metadata": {},
   "outputs": [
    {
     "name": "stdout",
     "output_type": "stream",
     "text": [
      "The factorial of 3 is 6\n"
     ]
    }
   ],
   "source": [
    "def factorial(x):\n",
    "    \"\"\"This is a recursive function\n",
    "    to find the factorial of an integer\"\"\"\n",
    "\n",
    "    if x == 1:\n",
    "        return 1\n",
    "    else:\n",
    "        return (x * factorial(x-1))\n",
    "\n",
    "num = 3\n",
    "print(\"The factorial of\", num, \"is\", factorial(num))"
   ]
  },
  {
   "cell_type": "code",
   "execution_count": 4,
   "metadata": {},
   "outputs": [],
   "source": [
    "# In the above example, factorial() is a recursive function as it calls itself.\n",
    "\n",
    "# When we call this function with a positive integer,\n",
    "#  it will recursively call itself by decreasing the number.\n",
    "\n",
    "# Each function multiplies the number with the factorial of the number below it\n",
    "#  until it is equal to one. This recursive call can be explained in the following steps."
   ]
  },
  {
   "cell_type": "code",
   "execution_count": 5,
   "metadata": {},
   "outputs": [
    {
     "data": {
      "text/plain": [
       "6"
      ]
     },
     "execution_count": 5,
     "metadata": {},
     "output_type": "execute_result"
    }
   ],
   "source": [
    "factorial(3)          # 1st call with 3\n",
    "3 * factorial(2)      # 2nd call with 2\n",
    "3 * 2 * factorial(1)  # 3rd call with 1\n",
    "3 * 2 * 1             # return from 3rd call as number=1\n",
    "3 * 2                 # return from 2nd call\n",
    "6                     # return from 1st call\n"
   ]
  },
  {
   "cell_type": "markdown",
   "metadata": {},
   "source": [
    "Let's look at an image that shows a step-by-step process of what is going on:\n",
    "\n",
    "![alt text](python-factorial-function.webp)"
   ]
  },
  {
   "cell_type": "code",
   "execution_count": 7,
   "metadata": {},
   "outputs": [],
   "source": [
    "# Our recursion ends when the number reduces to 1. This is called the base condition.\n",
    "\n",
    "# Every recursive function must have a base condition that stops the recursion or\n",
    "#  else the function calls itself infinitely.\n",
    "\n",
    "# The Python interpreter limits the depths of recursion to help avoid infinite recursions,\n",
    "#  resulting in stack overflows.\n",
    "\n",
    "# By default, the maximum depth of recursion is 1000.\n",
    "#  If the limit is crossed, it results in RecursionError. Let's look at one such condition."
   ]
  },
  {
   "cell_type": "code",
   "execution_count": 8,
   "metadata": {},
   "outputs": [
    {
     "ename": "RecursionError",
     "evalue": "maximum recursion depth exceeded",
     "output_type": "error",
     "traceback": [
      "\u001b[1;31m---------------------------------------------------------------------------\u001b[0m",
      "\u001b[1;31mRecursionError\u001b[0m                            Traceback (most recent call last)",
      "Cell \u001b[1;32mIn[8], line 3\u001b[0m\n\u001b[0;32m      1\u001b[0m \u001b[38;5;28;01mdef\u001b[39;00m\u001b[38;5;250m \u001b[39m\u001b[38;5;21mrecursor\u001b[39m():\n\u001b[0;32m      2\u001b[0m     recursor()\n\u001b[1;32m----> 3\u001b[0m \u001b[43mrecursor\u001b[49m\u001b[43m(\u001b[49m\u001b[43m)\u001b[49m\n",
      "Cell \u001b[1;32mIn[8], line 2\u001b[0m, in \u001b[0;36mrecursor\u001b[1;34m()\u001b[0m\n\u001b[0;32m      1\u001b[0m \u001b[38;5;28;01mdef\u001b[39;00m\u001b[38;5;250m \u001b[39m\u001b[38;5;21mrecursor\u001b[39m():\n\u001b[1;32m----> 2\u001b[0m     \u001b[43mrecursor\u001b[49m\u001b[43m(\u001b[49m\u001b[43m)\u001b[49m\n",
      "Cell \u001b[1;32mIn[8], line 2\u001b[0m, in \u001b[0;36mrecursor\u001b[1;34m()\u001b[0m\n\u001b[0;32m      1\u001b[0m \u001b[38;5;28;01mdef\u001b[39;00m\u001b[38;5;250m \u001b[39m\u001b[38;5;21mrecursor\u001b[39m():\n\u001b[1;32m----> 2\u001b[0m     \u001b[43mrecursor\u001b[49m\u001b[43m(\u001b[49m\u001b[43m)\u001b[49m\n",
      "    \u001b[1;31m[... skipping similar frames: recursor at line 2 (2970 times)]\u001b[0m\n",
      "Cell \u001b[1;32mIn[8], line 2\u001b[0m, in \u001b[0;36mrecursor\u001b[1;34m()\u001b[0m\n\u001b[0;32m      1\u001b[0m \u001b[38;5;28;01mdef\u001b[39;00m\u001b[38;5;250m \u001b[39m\u001b[38;5;21mrecursor\u001b[39m():\n\u001b[1;32m----> 2\u001b[0m     \u001b[43mrecursor\u001b[49m\u001b[43m(\u001b[49m\u001b[43m)\u001b[49m\n",
      "\u001b[1;31mRecursionError\u001b[0m: maximum recursion depth exceeded"
     ]
    }
   ],
   "source": [
    "def recursor():\n",
    "    recursor()\n",
    "recursor()"
   ]
  },
  {
   "cell_type": "markdown",
   "metadata": {},
   "source": [
    "Advantages of Recursion"
   ]
  },
  {
   "cell_type": "code",
   "execution_count": 9,
   "metadata": {},
   "outputs": [],
   "source": [
    "#Recursive functions make the code look clean and elegant.\n",
    "#A complex task can be broken down into simpler sub-problems using recursion.\n",
    "#Sequence generation is easier with recursion than using some nested iteration.\n"
   ]
  },
  {
   "cell_type": "markdown",
   "metadata": {},
   "source": [
    "Disadvantages of Recursion"
   ]
  },
  {
   "cell_type": "code",
   "execution_count": 10,
   "metadata": {},
   "outputs": [],
   "source": [
    "#Sometimes the logic behind recursion is hard to follow through.\n",
    "#Recursive calls are expensive (inefficient) as they take up a lot of memory and time.\n",
    "#Recursive functions are hard to debug."
   ]
  },
  {
   "cell_type": "markdown",
   "metadata": {},
   "source": [
    "Python Program to Find Sum of Natural Numbers Using Recursion"
   ]
  },
  {
   "cell_type": "code",
   "execution_count": 11,
   "metadata": {},
   "outputs": [],
   "source": [
    "#To understand this example, you should have the knowledge of the following Python programming topics:\n",
    "\n",
    "#1. Python if...else Statement\n",
    "#2. Python Functions\n",
    "#3. Python Recursion"
   ]
  },
  {
   "cell_type": "code",
   "execution_count": null,
   "metadata": {},
   "outputs": [
    {
     "name": "stdout",
     "output_type": "stream",
     "text": [
      "The sum is 21\n"
     ]
    }
   ],
   "source": [
    "# In the program below, we've used a recursive function recur_sum() to compute the sum\n",
    "# up to the given number.\n",
    "\n",
    "# Source Code:\n",
    "\n",
    "def recur_sum(n):\n",
    "    if n <= 1:\n",
    "        return n\n",
    "    else:\n",
    "        return n + recur_sum(n-1)\n",
    "    \n",
    "# change this value for a different result\n",
    "num = 6\n",
    "\n",
    "if num < 0:\n",
    "    print(\"Enter a positive number\")\n",
    "else:\n",
    "    print(\"The sum is\", recur_sum(num))"
   ]
  },
  {
   "cell_type": "code",
   "execution_count": 14,
   "metadata": {},
   "outputs": [],
   "source": [
    "# Note: To test the program for another number, change the value of num."
   ]
  },
  {
   "cell_type": "markdown",
   "metadata": {},
   "source": [
    "# Python Program to Display Fibonacci Sequence Using Recursion"
   ]
  },
  {
   "cell_type": "code",
   "execution_count": 15,
   "metadata": {},
   "outputs": [],
   "source": [
    "# To understand this example, you should have the knowledge of the following Python programming topics:\n",
    "\n",
    "# 1. Python for Loop\n",
    "# 2. Python Functions\n",
    "# 3. Python Recursion\n",
    "# 4. Python if...else Statement\n",
    "\n",
    "# A Fibonacci sequence is the integer sequence of 0, 1, 1, 2, 3, 5, 8....\n",
    "\n",
    "# The first two terms are 0 and 1. All other terms are obtained by adding the preceding two terms.\n",
    "# This means to say the nth term is the sum of (n-1)th and (n-2)th term."
   ]
  },
  {
   "cell_type": "code",
   "execution_count": 16,
   "metadata": {},
   "outputs": [
    {
     "name": "stdout",
     "output_type": "stream",
     "text": [
      "Fibonacci sequence:\n",
      "0\n",
      "1\n",
      "1\n",
      "2\n",
      "3\n",
      "5\n",
      "8\n",
      "13\n",
      "21\n",
      "34\n"
     ]
    }
   ],
   "source": [
    "## Source code:\n",
    "\n",
    "# Python program to display the Fibonacci sequence\n",
    "\n",
    "def recur_fibo(n):\n",
    "    if n <= 1:\n",
    "        return n\n",
    "    else:\n",
    "        return(recur_fibo(n-1) + recur_fibo(n-2))\n",
    "    \n",
    "nterms = 10\n",
    "\n",
    "# check if the number of terms is valid\n",
    "if nterms <= 0:\n",
    "    print(\"Please enter a positive integer\")\n",
    "else:\n",
    "    print(\"Fibonacci sequence:\")\n",
    "    for i in range(nterms):\n",
    "        print(recur_fibo(i))"
   ]
  },
  {
   "cell_type": "markdown",
   "metadata": {},
   "source": [
    "# Python Program to Print the Fibonacci sequence"
   ]
  },
  {
   "cell_type": "code",
   "execution_count": 17,
   "metadata": {},
   "outputs": [],
   "source": [
    "#To understand this example, you should have the knowledge of the following Python programming topics:\n",
    "\n",
    "#1. Python if...else Statement\n",
    "#2. Python while Loop\n",
    "#3. A Fibonacci sequence is the integer sequence of 0, 1, 1, 2, 3, 5, 8....\n",
    "\n",
    "#The first two terms are 0 and 1. All other terms are obtained by adding the preceding two terms.\n",
    "\n",
    "#This means to say the nth term is the sum of (n-1)th and (n-2)th term."
   ]
  },
  {
   "cell_type": "code",
   "execution_count": null,
   "metadata": {},
   "outputs": [],
   "source": [
    "# Program to display the fibonacci sequence up to nth term\n",
    "\n",
    "# first two terms of the sequence\n",
    "n1, n2 = 0, 1\n",
    "count = 0\n",
    "\n",
    "while True:\n",
    "    try:\n",
    "        # Get user input and validate\n",
    "        nterms = int(input(\"How many terms? \"))\n",
    "        # check if the number of terms is valid\n",
    "        if nterms <= 0:\n",
    "            print(\"Please enter a positive integer\")\n",
    "        # if there is only one term, return n1\n",
    "        elif nterms == 1:\n",
    "            print(\"Fibonacci sequence upto\", nterms, \":\")\n",
    "            print(n1)\n",
    "        else:\n",
    "            break\n",
    "    except ValueError:\n",
    "        print(\"Invalid input. Please enter a valid positive integer.\")\n",
    "\n",
    "# generate fibonacci sequence\n",
    "print(\"Fibonacci sequence:\")\n",
    "while count < nterms:\n",
    "    print(n1)\n",
    "    nth = n1 + n2\n",
    "    # update values\n",
    "    n1 = n2\n",
    "    n2 = nth\n",
    "    count += 1\n",
    "    "
   ]
  },
  {
   "cell_type": "code",
   "execution_count": null,
   "metadata": {},
   "outputs": [],
   "source": [
    "# Here, we store the number of terms in nterms.\n",
    "#  We initialize the first term to 0 and the second term to 1.\n",
    "\n",
    "# If the number of terms is more than 2, we use a while loop to find the next term in the sequence\n",
    "#  by adding the preceding two terms. We then interchange the variables (update it) and continue\n",
    "#  on with the process."
   ]
  }
 ],
 "metadata": {
  "kernelspec": {
   "display_name": "Python 3",
   "language": "python",
   "name": "python3"
  },
  "language_info": {
   "codemirror_mode": {
    "name": "ipython",
    "version": 3
   },
   "file_extension": ".py",
   "mimetype": "text/x-python",
   "name": "python",
   "nbconvert_exporter": "python",
   "pygments_lexer": "ipython3",
   "version": "3.11.9"
  }
 },
 "nbformat": 4,
 "nbformat_minor": 2
}
